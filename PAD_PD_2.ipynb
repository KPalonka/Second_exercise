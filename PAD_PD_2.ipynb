{
  "nbformat": 4,
  "nbformat_minor": 0,
  "metadata": {
    "colab": {
      "provenance": [],
      "collapsed_sections": [],
      "mount_file_id": "16vo1BmkjZikHMMSwruLiR1jtWu4Ffx-o",
      "authorship_tag": "ABX9TyMRUOxVUE/yRRCTwJ6uG2un",
      "include_colab_link": true
    },
    "kernelspec": {
      "name": "python3",
      "display_name": "Python 3"
    },
    "language_info": {
      "name": "python"
    }
  },
  "cells": [
    {
      "cell_type": "markdown",
      "metadata": {
        "id": "view-in-github",
        "colab_type": "text"
      },
      "source": [
        "<a href=\"https://colab.research.google.com/github/KPalonka/Second_exercise/blob/main/PAD_PD_2.ipynb\" target=\"_parent\"><img src=\"https://colab.research.google.com/assets/colab-badge.svg\" alt=\"Open In Colab\"/></a>"
      ]
    },
    {
      "cell_type": "code",
      "source": [
        "#Zadanie1"
      ],
      "metadata": {
        "id": "A7XipKSfUGD-"
      },
      "execution_count": null,
      "outputs": []
    },
    {
      "cell_type": "code",
      "execution_count": 1,
      "metadata": {
        "id": "7tZAYX9kLkmx"
      },
      "outputs": [],
      "source": [
        "import pandas as pd\n",
        "import numpy as np"
      ]
    },
    {
      "cell_type": "code",
      "source": [
        "data = pd.read_csv('/content/drive/MyDrive/PAD/cwiczenie 2/president_heights.csv')\n",
        "heights = np.array(data['height(cm)'])\n",
        "heights"
      ],
      "metadata": {
        "colab": {
          "base_uri": "https://localhost:8080/"
        },
        "id": "qVZdWY3XPiCu",
        "outputId": "8080b9c5-3302-4661-d646-47b7c43143ec"
      },
      "execution_count": 25,
      "outputs": [
        {
          "output_type": "execute_result",
          "data": {
            "text/plain": [
              "array([189, 170, 189, 163, 183, 171, 185, 168, 173, 183, 173, 173, 175,\n",
              "       178, 183, 193, 178, 173, 174, 183, 183, 168, 170, 178, 182, 180,\n",
              "       183, 178, 182, 188, 175, 179, 183, 193, 182, 183, 177, 185, 188,\n",
              "       188, 182, 185])"
            ]
          },
          "metadata": {},
          "execution_count": 25
        }
      ]
    },
    {
      "cell_type": "code",
      "source": [
        "#Mean height\n",
        "mean_height = np.mean(heights)\n",
        "print('Mean height: {}'.format(mean_height))\n"
      ],
      "metadata": {
        "colab": {
          "base_uri": "https://localhost:8080/"
        },
        "id": "rw0qsvHdP9v-",
        "outputId": "fc019ef8-aa95-4d81-8fc3-8103706843d1"
      },
      "execution_count": 27,
      "outputs": [
        {
          "output_type": "stream",
          "name": "stdout",
          "text": [
            "Mean height: 179.73809523809524\n"
          ]
        }
      ]
    },
    {
      "cell_type": "code",
      "source": [
        "#Odchylenie standardowe\n",
        "std_height = np.std(heights)\n",
        "print('Standard deviation: {}'.format(std_height))"
      ],
      "metadata": {
        "colab": {
          "base_uri": "https://localhost:8080/"
        },
        "id": "ixNInTbhQQd3",
        "outputId": "3ea4ef87-b906-44de-fc3f-1ea5bf76e942"
      },
      "execution_count": 30,
      "outputs": [
        {
          "output_type": "stream",
          "name": "stdout",
          "text": [
            "Standard deviation: 6.931843442745892\n"
          ]
        }
      ]
    },
    {
      "cell_type": "code",
      "source": [
        "#Max height\n",
        "max_height = np.max(heights)\n",
        "print('Maximum height: {}'.format(max_height))"
      ],
      "metadata": {
        "colab": {
          "base_uri": "https://localhost:8080/"
        },
        "id": "iiT7Txz_QQ2_",
        "outputId": "5faed9e8-6f2c-47c3-cbca-8a34d763df45"
      },
      "execution_count": 31,
      "outputs": [
        {
          "output_type": "stream",
          "name": "stdout",
          "text": [
            "Maximum height: 193\n"
          ]
        }
      ]
    },
    {
      "cell_type": "code",
      "source": [
        "#Min height\n",
        "min_height = np.min(heights)\n",
        "print('Minimum height: {}'.format(min_height))"
      ],
      "metadata": {
        "colab": {
          "base_uri": "https://localhost:8080/"
        },
        "id": "a9W2PIFvQYAA",
        "outputId": "80c79f25-8fc3-46fb-f2ea-09e603ccb2ab"
      },
      "execution_count": 32,
      "outputs": [
        {
          "output_type": "stream",
          "name": "stdout",
          "text": [
            "Minimum height: 163\n"
          ]
        }
      ]
    },
    {
      "cell_type": "code",
      "source": [
        "#median\n",
        "median_heights = np.median(heights)\n",
        "print('Median: {}'.format(median_heights))"
      ],
      "metadata": {
        "colab": {
          "base_uri": "https://localhost:8080/"
        },
        "id": "E4x4OYWnbmA-",
        "outputId": "d8b78bf7-0755-4d26-daa5-f5a5362e6e43"
      },
      "execution_count": null,
      "outputs": [
        {
          "output_type": "stream",
          "name": "stdout",
          "text": [
            "Median: 182.0\n"
          ]
        }
      ]
    },
    {
      "cell_type": "code",
      "source": [
        "#25th percentile\n",
        "up_percentile = np.percentile(heights, 75)\n",
        "down_percentile = np.percentile(heights, 25)\n",
        "print('25th percentile: {}'.format(down_percentile))\n",
        "print('75th percentile: {}'.format(up_percentile))"
      ],
      "metadata": {
        "colab": {
          "base_uri": "https://localhost:8080/"
        },
        "id": "5zRwUUJoc_zF",
        "outputId": "b82e103a-184e-49c0-d4a0-221382ef326c"
      },
      "execution_count": null,
      "outputs": [
        {
          "output_type": "stream",
          "name": "stdout",
          "text": [
            "25th percentile: 174.25\n",
            "75th percentile: 183.0\n"
          ]
        }
      ]
    },
    {
      "cell_type": "code",
      "source": [
        "#Zadania 2"
      ],
      "metadata": {
        "id": "flZSpshBLqTZ"
      },
      "execution_count": null,
      "outputs": []
    },
    {
      "cell_type": "code",
      "source": [
        "data_2 = np.genfromtxt('/content/drive/MyDrive/PAD/cwiczenie 2/Zadanie_2.csv', delimiter = ';')\n",
        "data_2"
      ],
      "metadata": {
        "id": "nqfV9t2OLyMJ",
        "colab": {
          "base_uri": "https://localhost:8080/"
        },
        "outputId": "681d7d38-c33e-4d92-863e-a7d3ce76edab"
      },
      "execution_count": null,
      "outputs": [
        {
          "output_type": "execute_result",
          "data": {
            "text/plain": [
              "array([[  1.,   2.,  15., -59.,   9.,   3.,  75.,   6.,   7.,   1.],\n",
              "       [  0.,   5.,   0.,   4.,   6.,  16.,  44.,   7.,   1.,   1.],\n",
              "       [  7.,  14.,   3., -10.,   9.,  15.,  73.,   8.,   2.,   9.],\n",
              "       [  1.,   5.,  15., -54.,   5.,  15.,  35.,   8.,   6.,   4.],\n",
              "       [  0.,   8.,   5., -18.,   7.,  16.,  91.,   6.,   7.,   9.],\n",
              "       [  7.,  18.,  23., -90.,   4.,   8.,  31.,   0.,   1.,   7.],\n",
              "       [  2.,   8.,  20., -72.,   4.,   1.,  91.,   9.,   4.,   4.],\n",
              "       [  4.,  12.,  18., -65.,   6.,   9.,  76.,   4.,   9.,   9.],\n",
              "       [  7.,  15.,  13., -52.,   5.,   7.,  54.,   2.,   7.,   0.],\n",
              "       [  2.,   9.,  15., -56.,   6.,   1.,  98.,   4.,   8.,   4.]])"
            ]
          },
          "metadata": {},
          "execution_count": 2
        }
      ]
    },
    {
      "cell_type": "code",
      "source": [
        "eigen_values_vectors = np.linalg.eig(data_2)\n",
        "eigen_values = eigen_values_vectors[0]\n",
        "eigen_vectors = eigen_values_vectors[1]\n",
        "print('Eigenvalues: {}'.format(eigen_values))\n",
        "print('Eigenvectors: {}'.format(eigen_vectors))"
      ],
      "metadata": {
        "id": "CVoDkZLgM3oq",
        "colab": {
          "base_uri": "https://localhost:8080/"
        },
        "outputId": "4f4776e2-62dd-45b8-c424-e2fb452d06fc"
      },
      "execution_count": null,
      "outputs": [
        {
          "output_type": "stream",
          "name": "stdout",
          "text": [
            "Eigenvalues: [104.34960192 +0.j         -23.35660516+18.84992811j\n",
            " -23.35660516-18.84992811j  15.92989017 +0.j\n",
            "  -4.99456452 +0.j           0.35205717 +5.80125175j\n",
            "   0.35205717 -5.80125175j  -1.03383491 +0.j\n",
            "   3.87900166 +1.42651533j   3.87900166 -1.42651533j]\n",
            "Eigenvectors: [[-0.29000475+0.j         -0.07545445+0.07743149j -0.07545445-0.07743149j\n",
            "  -0.03544485+0.j          0.42681634+0.j         -0.22172831-0.29869259j\n",
            "  -0.22172831+0.29869259j  0.41343726+0.j         -0.28670255+0.21891569j\n",
            "  -0.28670255-0.21891569j]\n",
            " [-0.24163153+0.j          0.41229621+0.09197324j  0.41229621-0.09197324j\n",
            "   0.45873475+0.j         -0.27056206+0.j         -0.01331344+0.1422557j\n",
            "  -0.01331344-0.1422557j  -0.31591047+0.j          0.41954481-0.10561864j\n",
            "   0.41954481+0.10561864j]\n",
            " [-0.41060573+0.j          0.37509638-0.00960818j  0.37509638+0.00960818j\n",
            "   0.64067986+0.j         -0.37967609+0.j         -0.60525232+0.j\n",
            "  -0.60525232-0.j          0.6457768 +0.j          0.63631555+0.j\n",
            "   0.63631555-0.j        ]\n",
            " [-0.18899971+0.j         -0.05624951+0.174848j   -0.05624951-0.174848j\n",
            "   0.25174536+0.j         -0.07625465+0.j         -0.14870016-0.00795735j\n",
            "  -0.14870016+0.00795735j  0.15206852+0.j          0.21373907+0.00228636j\n",
            "   0.21373907-0.00228636j]\n",
            " [-0.42862199+0.j          0.47707538+0.14580554j  0.47707538-0.14580554j\n",
            "   0.39445834+0.j         -0.69542141+0.j          0.07336021-0.43070469j\n",
            "   0.07336021+0.43070469j -0.25948775+0.j          0.20250102-0.00411374j\n",
            "   0.20250102+0.00411374j]\n",
            " [-0.14730562+0.j         -0.57352911+0.j         -0.57352911-0.j\n",
            "   0.10071325+0.j          0.30158403+0.j         -0.04758838+0.12911829j\n",
            "  -0.04758838-0.12911829j  0.21274791+0.j         -0.1503483 +0.03452906j\n",
            "  -0.1503483 -0.03452906j]\n",
            " [-0.34660607+0.j         -0.13987374+0.06837303j -0.13987374-0.06837303j\n",
            "  -0.04800705+0.j          0.06798106+0.j          0.00512204+0.04215641j\n",
            "   0.00512204-0.04215641j  0.05365357+0.j         -0.0534517 +0.00550802j\n",
            "  -0.0534517 -0.00550802j]\n",
            " [-0.34919853+0.j         -0.08414467+0.07749664j -0.08414467-0.07749664j\n",
            "   0.25925893+0.j         -0.10039982+0.j         -0.06761437-0.25584347j\n",
            "  -0.06761437+0.25584347j -0.38214447+0.j          0.29485109-0.01300678j\n",
            "   0.29485109+0.01300678j]\n",
            " [-0.2440048 +0.j         -0.13777908+0.00402196j -0.13777908-0.00402196j\n",
            "   0.27709282+0.j         -0.00524365+0.j          0.21866893+0.04463336j\n",
            "   0.21866893-0.04463336j -0.12045798+0.j          0.27558332+0.02285482j\n",
            "   0.27558332-0.02285482j]\n",
            " [-0.38231403+0.j         -0.00476199+0.03456836j -0.00476199-0.03456836j\n",
            "   0.04918165+0.j          0.07322815+0.j          0.1819345 -0.29687727j\n",
            "   0.1819345 +0.29687727j -0.11445044+0.j          0.02830199+0.00579727j\n",
            "   0.02830199-0.00579727j]]\n"
          ]
        }
      ]
    },
    {
      "cell_type": "code",
      "source": [
        "inverse_matrix = np.linalg.inv(data_2)\n",
        "print(inverse_matrix)"
      ],
      "metadata": {
        "colab": {
          "base_uri": "https://localhost:8080/"
        },
        "id": "4khvnBWoiUHm",
        "outputId": "6c8a0319-0229-4cd4-c4f8-ef1704276f14"
      },
      "execution_count": null,
      "outputs": [
        {
          "output_type": "stream",
          "name": "stdout",
          "text": [
            "[[ 0.47461371  0.13269253 -0.24726695 -0.82965177  0.28250384 -0.17012825\n",
            "   0.58274426  0.83686705  0.4146721  -1.56942847]\n",
            " [-0.38032531 -0.11226789  0.23216372  0.58853747 -0.2508954   0.10174485\n",
            "  -0.40729564 -0.58325689 -0.2335154   1.11832726]\n",
            " [ 0.13559662  0.58950334 -0.24709855 -0.58789838 -0.30170699 -0.12721938\n",
            "   0.23740295  1.01003036 -0.02151387 -0.64590149]\n",
            " [ 0.01425207  0.14570726 -0.04557569 -0.12721972 -0.08945184 -0.03756624\n",
            "   0.03910376  0.23606066 -0.01436771 -0.11345749]\n",
            " [-0.09473246  0.01725249  0.19145597  0.32960274 -0.28626296  0.08348529\n",
            "  -0.37577603 -0.27295934 -0.25855803  0.74691827]\n",
            " [ 0.16387032  0.10075684 -0.15404907 -0.29794662  0.16916877 -0.02827782\n",
            "   0.20469921  0.28036265  0.15086178 -0.5882585 ]\n",
            " [ 0.04288003  0.02246462 -0.0366803  -0.09024915  0.04322146 -0.01047861\n",
            "   0.06167348  0.07009721  0.0367806  -0.14185925]\n",
            " [-0.26858433 -0.21167346  0.25168367  0.55607234 -0.16804333  0.01066975\n",
            "  -0.22435849 -0.52957038 -0.15757224  0.77302113]\n",
            " [-0.15583541 -0.13041404  0.0984558   0.3150966  -0.09916278 -0.04426337\n",
            "  -0.20832614 -0.18404388 -0.04309498  0.45794224]\n",
            " [-0.05970783 -0.11342903  0.09122544  0.11908074 -0.00311646  0.02370807\n",
            "  -0.07526552 -0.06924544 -0.10963836  0.16553689]]\n"
          ]
        }
      ]
    },
    {
      "cell_type": "code",
      "source": [
        "#Zadanie 3"
      ],
      "metadata": {
        "id": "0HY29nBYjF9F"
      },
      "execution_count": null,
      "outputs": []
    },
    {
      "cell_type": "code",
      "source": [
        "rain = pd.read_csv('/content/drive/MyDrive/PAD/cwiczenie 2/Seattle2014.csv', usecols=['PRCP']).values"
      ],
      "metadata": {
        "id": "5RY1wcP-bL-p"
      },
      "execution_count": 2,
      "outputs": []
    },
    {
      "cell_type": "code",
      "source": [
        "inches = rain / 254.0\n",
        "inches"
      ],
      "metadata": {
        "id": "cO7_zjfMbL2i"
      },
      "execution_count": null,
      "outputs": []
    },
    {
      "cell_type": "code",
      "source": [
        "import matplotlib.pyplot as plt\n",
        "import seaborn; seaborn.set()"
      ],
      "metadata": {
        "id": "RFj_x3ZubLqj"
      },
      "execution_count": null,
      "outputs": []
    },
    {
      "cell_type": "code",
      "source": [
        "%matplotlib inline"
      ],
      "metadata": {
        "id": "EeAOFo0abiyi"
      },
      "execution_count": null,
      "outputs": []
    },
    {
      "cell_type": "code",
      "source": [
        "plt.hist(inches, 40);"
      ],
      "metadata": {
        "colab": {
          "base_uri": "https://localhost:8080/",
          "height": 268
        },
        "id": "uiJGad-JbkXh",
        "outputId": "279f0a29-6af0-4320-f3b6-b0ce27ddc276"
      },
      "execution_count": null,
      "outputs": [
        {
          "output_type": "display_data",
          "data": {
            "text/plain": [
              "<Figure size 432x288 with 1 Axes>"
            ],
            "image/png": "[encoded data removed]"
          },
          "metadata": {
            "needs_background": "light"
          }
        }
      ]
    },
    {
      "cell_type": "code",
      "source": [
        "#nie padało\n",
        "without_rain = inches[inches == 0].size\n",
        "print('Number without rain: {}'.format(without_rain))"
      ],
      "metadata": {
        "colab": {
          "base_uri": "https://localhost:8080/"
        },
        "id": "2VxXDaASblj5",
        "outputId": "56c393d9-3161-4588-8f2a-07bd02450c06"
      },
      "execution_count": 4,
      "outputs": [
        {
          "output_type": "stream",
          "name": "stdout",
          "text": [
            "Number without rain: 215\n"
          ]
        }
      ]
    },
    {
      "cell_type": "code",
      "source": [
        "#padalo\n",
        "with_rain = inches[inches != 0].size\n",
        "#len(inches[inches == 0]), pokazuje to samo"
      ],
      "metadata": {
        "id": "NKv5X4sObl0J"
      },
      "execution_count": 5,
      "outputs": []
    },
    {
      "cell_type": "code",
      "source": [
        "#spadlo wiecej niz 0.5 cala deszczu\n",
        "above_half = inches[inches > 0.5].size"
      ],
      "metadata": {
        "id": "uSOfMgbmbmDR"
      },
      "execution_count": 6,
      "outputs": []
    },
    {
      "cell_type": "code",
      "source": [
        "#spadlo ponizej 0.2 cala ale padalo\n",
        "#tworze dwa warunki jeden na ilosc deszczu mniejsza niz 0.2 i drugi na \n",
        "#wartosci rozne od zera\n",
        "less_than_02inch = inches < 0.2\n",
        "non_zero = inches != 0"
      ],
      "metadata": {
        "id": "dmEEeaA1bsIh"
      },
      "execution_count": 7,
      "outputs": []
    },
    {
      "cell_type": "code",
      "source": [
        "less_rainy = inches[less_than_02inch & non_zero].size"
      ],
      "metadata": {
        "id": "T2vnviw6btUq"
      },
      "execution_count": 8,
      "outputs": []
    },
    {
      "cell_type": "code",
      "source": [
        "print('Number days without rain: {}'.format(without_rain))\n",
        "print('Number days with rain: {}'.format(with_rain))\n",
        "print('Days with more than 0.5 inches: {}'.format(above_half))\n",
        "print('Rainy days with < 0.2 inches: {}'.format(less_rainy))"
      ],
      "metadata": {
        "colab": {
          "base_uri": "https://localhost:8080/"
        },
        "id": "VELMUpKBbxA4",
        "outputId": "87dc495d-bdd5-49b6-8ed3-508320efb57c"
      },
      "execution_count": 9,
      "outputs": [
        {
          "output_type": "stream",
          "name": "stdout",
          "text": [
            "Number days without rain: 215\n",
            "Number days with rain: 150\n",
            "Days with more than 0.5 inches: 37\n",
            "Rainy days with < 0.2 inches: 75\n"
          ]
        }
      ]
    },
    {
      "cell_type": "code",
      "source": [
        "rainy_days = inches[inches != 0]"
      ],
      "metadata": {
        "id": "83POLjk6bw7o"
      },
      "execution_count": 10,
      "outputs": []
    },
    {
      "cell_type": "code",
      "source": [
        "#liczenie mediany w deszczowe dni\n",
        "median_rainy = np.median(rainy_days)\n",
        "median_rainy"
      ],
      "metadata": {
        "colab": {
          "base_uri": "https://localhost:8080/"
        },
        "id": "yVL9HD9Qbw2Y",
        "outputId": "c0ed70a7-cb4a-4727-b7cb-3456aa5f74e8"
      },
      "execution_count": 11,
      "outputs": [
        {
          "output_type": "execute_result",
          "data": {
            "text/plain": [
              "0.19488188976377951"
            ]
          },
          "metadata": {},
          "execution_count": 11
        }
      ]
    },
    {
      "cell_type": "code",
      "source": [
        "#obliczanie mediany opadów w letnie dni\n",
        "summer_days = inches[172:262]\n",
        "summer_median = np.median(summer_days)\n",
        "summer_median"
      ],
      "metadata": {
        "colab": {
          "base_uri": "https://localhost:8080/"
        },
        "id": "Dqjbbu0hbwwx",
        "outputId": "bed0e27f-2572-4030-e85d-fad28a57f2fa"
      },
      "execution_count": 19,
      "outputs": [
        {
          "output_type": "execute_result",
          "data": {
            "text/plain": [
              "0.0"
            ]
          },
          "metadata": {},
          "execution_count": 19
        }
      ]
    },
    {
      "cell_type": "code",
      "source": [
        "#obliczanie maksymalnych opadów w letnie dni\n",
        "max_rain_summer = np.max(summer_days)\n",
        "max_rain_summer"
      ],
      "metadata": {
        "colab": {
          "base_uri": "https://localhost:8080/"
        },
        "id": "IwNLUfhAbwrb",
        "outputId": "a9f0844b-b173-4d5f-964f-66b55aa42e2a"
      },
      "execution_count": 20,
      "outputs": [
        {
          "output_type": "execute_result",
          "data": {
            "text/plain": [
              "0.8503937007874016"
            ]
          },
          "metadata": {},
          "execution_count": 20
        }
      ]
    },
    {
      "cell_type": "code",
      "source": [
        "#rozbicie całego roku na dwie tablice od 0 do 172 i 262 do 365\n",
        "non_summer_days_1 = inches[:172]\n",
        "non_summer_days_2 = inches[262:]"
      ],
      "metadata": {
        "id": "mehjcCRpbwlh"
      },
      "execution_count": 14,
      "outputs": []
    },
    {
      "cell_type": "code",
      "source": [
        "type(non_summer_days_1)"
      ],
      "metadata": {
        "colab": {
          "base_uri": "https://localhost:8080/"
        },
        "id": "zeB7bWLHbwep",
        "outputId": "23b42620-7e08-42c2-b0ca-d27253c63b6a"
      },
      "execution_count": 15,
      "outputs": [
        {
          "output_type": "execute_result",
          "data": {
            "text/plain": [
              "numpy.ndarray"
            ]
          },
          "metadata": {},
          "execution_count": 15
        }
      ]
    },
    {
      "cell_type": "code",
      "source": [
        "#połączenie dwoch wczesniej przygotowanych tablic do jednej ktora da wszystkie dni poza latem\n",
        "non_summer_days = np.concatenate((non_summer_days_1, non_summer_days_2), axis=None)"
      ],
      "metadata": {
        "id": "LG0BgxLebwTY"
      },
      "execution_count": 16,
      "outputs": []
    },
    {
      "cell_type": "code",
      "source": [
        "max_rain_non_summer = np.max(non_summer_days)\n",
        "max_rain_non_summer"
      ],
      "metadata": {
        "colab": {
          "base_uri": "https://localhost:8080/"
        },
        "id": "d8x1FQ0Bg6sY",
        "outputId": "ce37e5a0-424e-4d2f-bd4e-22c7ea7970fb"
      },
      "execution_count": 17,
      "outputs": [
        {
          "output_type": "execute_result",
          "data": {
            "text/plain": [
              "1.8385826771653544"
            ]
          },
          "metadata": {},
          "execution_count": 17
        }
      ]
    },
    {
      "cell_type": "code",
      "source": [
        "print('Median precip on rainy days in 2014 (inches): {}'.format(median_rainy))\n",
        "print('Median precip on summer days in 2014 (inches): {}'.format(summer_median))\n",
        "print('Maximum precip on summer days in 2014 (inches): {}'.format(max_rain_summer))\n",
        "print('Maximum precip on non-summer days in 2014 (inches): {}'.format(round(max_rain_non_summer, 3)))\n"
      ],
      "metadata": {
        "colab": {
          "base_uri": "https://localhost:8080/"
        },
        "id": "osmALVfKhSC4",
        "outputId": "4821ec47-d7b1-42cf-ce45-484d7afeb89b"
      },
      "execution_count": 21,
      "outputs": [
        {
          "output_type": "stream",
          "name": "stdout",
          "text": [
            "Median precip on rainy days in 2014 (inches): 0.19488188976377951\n",
            "Median precip on summer days in 2014 (inches): 0.0\n",
            "Maximum precip on summer days in 2014 (inches): 0.8503937007874016\n",
            "Maximum precip on non-summer days in 2014 (inches): 1.839\n"
          ]
        }
      ]
    },
    {
      "cell_type": "code",
      "source": [
        "#Zadanie 4"
      ],
      "metadata": {
        "id": "yIGAtjSR5Tyk"
      },
      "execution_count": null,
      "outputs": []
    },
    {
      "cell_type": "code",
      "source": [
        "A = np.array([0,3,2,5])\n",
        "B = np.array([0,3,1,4])"
      ],
      "metadata": {
        "id": "n-Q0Ix1hiLDf"
      },
      "execution_count": null,
      "outputs": []
    },
    {
      "cell_type": "code",
      "source": [
        "#Suma wektorów A i B\n",
        "sum = np.sum([A,B], axis=0)\n",
        "sum"
      ],
      "metadata": {
        "colab": {
          "base_uri": "https://localhost:8080/"
        },
        "id": "SkClUVliiS6v",
        "outputId": "a5784be5-e05d-469a-bd59-54e64076de2b"
      },
      "execution_count": null,
      "outputs": [
        {
          "output_type": "execute_result",
          "data": {
            "text/plain": [
              "array([0, 6, 3, 9])"
            ]
          },
          "metadata": {},
          "execution_count": 56
        }
      ]
    },
    {
      "cell_type": "code",
      "source": [
        "#Różnica wektorów B od A\n",
        "subtract = np.subtract(A,B)\n",
        "subtract"
      ],
      "metadata": {
        "id": "w5TQ086XiTr4",
        "colab": {
          "base_uri": "https://localhost:8080/"
        },
        "outputId": "375e5b48-2f7d-454b-f179-2f3c4a15287a"
      },
      "execution_count": null,
      "outputs": [
        {
          "output_type": "execute_result",
          "data": {
            "text/plain": [
              "array([0, 0, 1, 1])"
            ]
          },
          "metadata": {},
          "execution_count": 62
        }
      ]
    },
    {
      "cell_type": "code",
      "source": [
        "#Mnożenie wektora A przez skalar a=4\n",
        "multiply = np.multiply(A, 4)\n",
        "multiply\n"
      ],
      "metadata": {
        "colab": {
          "base_uri": "https://localhost:8080/"
        },
        "id": "aB49cFKZlWwo",
        "outputId": "08cb24dc-d40c-4456-a898-ff7f124384d4"
      },
      "execution_count": null,
      "outputs": [
        {
          "output_type": "execute_result",
          "data": {
            "text/plain": [
              "array([ 0, 12,  8, 20])"
            ]
          },
          "metadata": {},
          "execution_count": 63
        }
      ]
    },
    {
      "cell_type": "code",
      "source": [
        "#iloczyn skalarny wektorów A i B\n",
        "iloczyn = np.dot(A,B)\n",
        "iloczyn"
      ],
      "metadata": {
        "id": "tMj4-6WsljTj",
        "colab": {
          "base_uri": "https://localhost:8080/"
        },
        "outputId": "55e2caa6-ecb0-449e-d54b-30ef2c1670fc"
      },
      "execution_count": null,
      "outputs": [
        {
          "output_type": "execute_result",
          "data": {
            "text/plain": [
              "31"
            ]
          },
          "metadata": {},
          "execution_count": 3
        }
      ]
    },
    {
      "cell_type": "code",
      "source": [
        "#Długość wektora B\n",
        "#magnitude_vector\n",
        "mag = np.linalg.norm(B)\n",
        "mag"
      ],
      "metadata": {
        "colab": {
          "base_uri": "https://localhost:8080/"
        },
        "id": "m2AqhBCc5ZE2",
        "outputId": "99f6ecc0-6e74-48c1-e4c7-1249a57c4364"
      },
      "execution_count": null,
      "outputs": [
        {
          "output_type": "execute_result",
          "data": {
            "text/plain": [
              "5.0990195135927845"
            ]
          },
          "metadata": {},
          "execution_count": 4
        }
      ]
    }
  ]
}